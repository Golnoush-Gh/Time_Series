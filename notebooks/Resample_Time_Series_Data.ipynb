{
 "cells": [
  {
   "cell_type": "code",
   "execution_count": null,
   "id": "a134c68f-9909-4371-bb06-d75038ee8a06",
   "metadata": {},
   "outputs": [],
   "source": [
    "import pandas as pd\n",
    "from pandas.api.types import is_datetime64_any_dtype as is_datetime\n",
    "import matplotlib.pyplot as plt\n",
    "import seaborn as sns\n",
    "\n",
    "sns.set_style(\"darkgrid\")\n",
    "%config InlineBackend.figure_format = 'retina'\n",
    "plt.rcParams[\"figure.figsize\"] = (10, 4)\n",
    "plt.rcParams[\"figure.dpi\"] = 80"
   ]
  },
  {
   "cell_type": "code",
   "execution_count": null,
   "id": "14866c40-172c-449e-9ac5-f6d6388b2d34",
   "metadata": {},
   "outputs": [],
   "source": [
    "df = pd.read_csv(\"co2.csv\", parse_dates=[\"datestamp\"],index_col=\"datestamp\",)"
   ]
  },
  {
   "cell_type": "code",
   "execution_count": null,
   "id": "0763d6ab-251f-40ea-bd53-d06cbeca7451",
   "metadata": {},
   "outputs": [],
   "source": [
    "# Convert numeric columns\n",
    "df[\"co2\"] = pd.to_numeric(df[\"co2\"], errors=\"coerce\",)\n",
    "\n",
    "# Fill missing values\n",
    "df[\"co2\"] = df[\"co2\"].fillna(method=\"ffill\")  \n",
    "df.head()"
   ]
  },
  {
   "cell_type": "code",
   "execution_count": null,
   "id": "7f4720db-b27e-41d8-bf15-fe964939b97e",
   "metadata": {},
   "outputs": [],
   "source": [
    "date_col = \"Date\"\n",
    "df = pd.read_csv(\"nvda.csv\", index_col=date_col, parse_dates=True)\n",
    "print(\"The index been parsed as a date: \" + str(is_datetime(df.index)))"
   ]
  },
  {
   "cell_type": "code",
   "execution_count": null,
   "id": "4f91134d-49f3-47e8-ac0c-7c727102dfd6",
   "metadata": {},
   "outputs": [],
   "source": [
    "var_col = \"Close\"\n",
    "df_subset = df[[var_col]] \n",
    "df_time = df_subset[\"2020-1-1\":\"2021-1-1\"].copy()\n",
    "\n",
    "df_time"
   ]
  },
  {
   "cell_type": "code",
   "execution_count": null,
   "id": "63b4d0d9-5204-40fc-9d55-33b14fb3896e",
   "metadata": {},
   "outputs": [],
   "source": [
    "downsample_one = \"W\"\n",
    "downsample_two = \"M\"\n",
    "\n",
    "df_downsample_one = df_time.resample(downsample_one).mean().copy()\n",
    "df_downsample_two = df_time.resample(downsample_two).mean().copy()\n",
    "\n",
    "# Plot all three DataFrames\n",
    "plt.plot(\n",
    "    df_time.index,\n",
    "    df_time[var_col],\n",
    "    label=\"Original Data\",\n",
    "    color=\"black\",\n",
    "    linewidth=0.75,\n",
    ")\n",
    "plt.plot(\n",
    "    df_downsample_one.index,\n",
    "    df_downsample_one[var_col],\n",
    "    label=\"Downsampled Data \" + f\"({downsample_one})\",\n",
    ")\n",
    "plt.plot(\n",
    "    df_downsample_two.index,\n",
    "    df_downsample_two[var_col],\n",
    "    label=\"Downsampled Data \" + f\"({downsample_two})\",\n",
    ")\n",
    "\n",
    "plt.legend()\n",
    "plt.title(\"Original and Downsampled Data\", fontsize=14)\n",
    "plt.show()"
   ]
  },
  {
   "cell_type": "code",
   "execution_count": null,
   "id": "7bc5b375-3bd5-4529-a77f-e4598690938c",
   "metadata": {},
   "outputs": [],
   "source": [
    "upsample = \"H\"\n",
    "df_time_subset = df_time[\"2020-01-01\":\"2020-01-31\"]\n",
    "df_upsample = df_time_subset.resample(upsample).asfreq()\n",
    "\n",
    "df_upsample"
   ]
  },
  {
   "cell_type": "code",
   "execution_count": null,
   "id": "ec2a3b2b-356d-41bf-9ca5-2da245331afa",
   "metadata": {},
   "outputs": [],
   "source": [
    "df_upsample[\"nearest_value\"] = df_time_subset.resample(upsample).fillna(\"nearest\")\n",
    "df_upsample[\"forward_fill\"] = df_time_subset.resample(upsample).ffill()\n",
    "df_upsample[\"interpolate\"] = df_time_subset.resample(upsample).interpolate()\n",
    "\n",
    "plt.scatter(\n",
    "    df_upsample.index, df_upsample[var_col], label=\"Original Data\", color=\"black\"\n",
    ")\n",
    "plt.plot(df_upsample.index, df_upsample[\"nearest_value\"], label=\"Nearest Value\")\n",
    "plt.plot(df_upsample.index, df_upsample[\"forward_fill\"], label=\"Forward Fill Data\")\n",
    "plt.plot(df_upsample.index, df_upsample[\"interpolate\"], label=\"Interpolated Data\")\n",
    "plt.legend()\n",
    "\n",
    "plt.title(\"Original and Upsampled Data \" + f\"({upsample})\", fontsize=14)\n",
    "plt.xticks(size=8)\n",
    "plt.yticks(size=8)\n",
    "\n",
    "plt.show()"
   ]
  }
 ],
 "metadata": {
  "kernelspec": {
   "display_name": "Python 3 (ipykernel)",
   "language": "python",
   "name": "python3"
  },
  "language_info": {
   "codemirror_mode": {
    "name": "ipython",
    "version": 3
   },
   "file_extension": ".py",
   "mimetype": "text/x-python",
   "name": "python",
   "nbconvert_exporter": "python",
   "pygments_lexer": "ipython3",
   "version": "3.11.3"
  }
 },
 "nbformat": 4,
 "nbformat_minor": 5
}
